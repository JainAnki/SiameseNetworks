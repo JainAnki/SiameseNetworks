{
  "nbformat": 4,
  "nbformat_minor": 0,
  "metadata": {
    "colab": {
      "name": "BMD Asgn1",
      "provenance": [],
      "collapsed_sections": [],
      "authorship_tag": "ABX9TyNVhX9jpDxZbYE5vniHwqPI",
      "include_colab_link": true
    },
    "kernelspec": {
      "name": "python3",
      "display_name": "Python 3"
    },
    "language_info": {
      "name": "python"
    }
  },
  "cells": [
    {
      "cell_type": "markdown",
      "metadata": {
        "id": "view-in-github",
        "colab_type": "text"
      },
      "source": [
        "<a href=\"https://colab.research.google.com/github/JainAnki/SiameseNetworks/blob/main/BMD_Asgn1.ipynb\" target=\"_parent\"><img src=\"https://colab.research.google.com/assets/colab-badge.svg\" alt=\"Open In Colab\"/></a>"
      ]
    },
    {
      "cell_type": "markdown",
      "metadata": {
        "id": "-zzdziQ8XDyw"
      },
      "source": [
        "#Assignment 1 - Spirometry\n",
        "\n",
        "---\n",
        "\n",
        "###We have been provided data of three different subjects performing foeced expiration on a spirometer\n",
        "\n",
        "###Parameters that can be extracted from the dataset are as follows:\n",
        "\n",
        "> **FEV1:** Forced Expiratory Volume in the 1st one second\n",
        "\n",
        "> **FVC::** Forced Vital Capacity\n",
        "\n",
        "> **FEV1/FVC Ratio**\n",
        "\n",
        "> **Flow Volume Loop** Flow (L/sec) vs Volume(L)\n",
        "\n",
        "\n",
        "\n",
        "\n"
      ]
    },
    {
      "cell_type": "code",
      "metadata": {
        "id": "UpZ1ueMtynOc"
      },
      "source": [
        "%matplotlib inline"
      ],
      "execution_count": 31,
      "outputs": []
    },
    {
      "cell_type": "code",
      "metadata": {
        "id": "eoQt7tLGx0Z5"
      },
      "source": [
        "import numpy as np\n",
        "from numpy import genfromtxt\n",
        "import matplotlib.pyplot as plt\n",
        "import pandas as pd\n",
        "import math"
      ],
      "execution_count": 32,
      "outputs": []
    },
    {
      "cell_type": "code",
      "metadata": {
        "id": "S_SIsM32w7Cw"
      },
      "source": [
        "headers = [\"FlowRate\"]\n",
        "X_1 = np.matrix(genfromtxt(\"/content/subj1.txt\"))\n",
        "df1 = pd.DataFrame(X_1.T, columns = headers).apply(pd.to_numeric)\n",
        "\n",
        "X_2= np.matrix(genfromtxt(\"/content/subj2.txt\"))\n",
        "df2 = pd.DataFrame(X_2.T, columns = headers).apply(pd.to_numeric)\n",
        "\n",
        "X_3 = np.matrix(genfromtxt(\"/content/subj3.txt\"))\n",
        "df3 = pd.DataFrame(X_3.T, columns = headers).apply(pd.to_numeric)"
      ],
      "execution_count": 33,
      "outputs": []
    },
    {
      "cell_type": "code",
      "metadata": {
        "id": "VJ6EHbbk42oj"
      },
      "source": [
        "FEV1 = [0]\n",
        "FEV1.append(df1[0:500].mean())\n",
        "FEV1.append(df1[0:500].mean() + df1[500:1000].mean())\n",
        "FEV1.append(df1[0:500].mean() + df1[500:1000].mean() + df1[1000:1500].mean())\n",
        "FEV1.append(df1[0:500].mean() + df1[500:1000].mean() + df1[1000:1500].mean() + df1[1500:2000].mean())\n",
        "\n",
        "FEV2 = [0]\n",
        "FEV2.append(df2[0:500].mean())\n",
        "FEV2.append(df2[0:500].mean() + df2[500:1000].mean())\n",
        "FEV2.append(df2[0:500].mean() + df2[500:1000].mean() + df2[1000:1500].mean())\n",
        "FEV2.append(df2[0:500].mean() + df2[500:1000].mean() + df2[1000:1500].mean() + df2[1500:2000].mean())\n",
        "\n",
        "FEV3 = [0]\n",
        "FEV3.append(df3[0:500].mean())\n",
        "FEV3.append(df3[0:500].mean() + df3[500:1000].mean())\n",
        "FEV3.append(df3[0:500].mean() + df3[500:1000].mean() + df3[1000:1500].mean())\n",
        "FEV3.append(df3[0:500].mean() + df3[500:1000].mean() + df3[1000:1500].mean() + df3[1500:2000].mean())"
      ],
      "execution_count": 34,
      "outputs": []
    },
    {
      "cell_type": "code",
      "metadata": {
        "colab": {
          "base_uri": "https://localhost:8080/",
          "height": 366
        },
        "id": "wJbW_Phg4a5j",
        "outputId": "55f797b7-c04c-4d5d-8d51-7367ac4577c5"
      },
      "source": [
        "plt.plot(FEV1, label = 'subj1')\n",
        "plt.plot(FEV2, label = 'subj2')\n",
        "plt.plot(FEV3, label = 'subj3')\n",
        "#plt.yticks([0,3.02682,3.927908,4.219496,4.349946])\n",
        "plt.xlabel(\"Time (seconds)\")\n",
        "plt.ylabel(\"Flow Rate (L/sec)\")\n",
        "plt.title(\"Flow Rate vs Time\")\n",
        "\n",
        "plt.legend()\n"
      ],
      "execution_count": 35,
      "outputs": [
        {
          "output_type": "stream",
          "name": "stderr",
          "text": [
            "/usr/local/lib/python3.7/dist-packages/numpy/core/_asarray.py:136: VisibleDeprecationWarning: Creating an ndarray from ragged nested sequences (which is a list-or-tuple of lists-or-tuples-or ndarrays with different lengths or shapes) is deprecated. If you meant to do this, you must specify 'dtype=object' when creating the ndarray\n",
            "  return array(a, dtype, copy=False, order=order, subok=True)\n"
          ]
        },
        {
          "output_type": "execute_result",
          "data": {
            "text/plain": [
              "<matplotlib.legend.Legend at 0x7f208c107450>"
            ]
          },
          "metadata": {},
          "execution_count": 35
        },
        {
          "output_type": "display_data",
          "data": {
            "image/png": "[encoded data removed]",
            "text/plain": [
              "<Figure size 432x288 with 1 Axes>"
            ]
          },
          "metadata": {
            "needs_background": "light"
          }
        }
      ]
    },
    {
      "cell_type": "markdown",
      "metadata": {
        "id": "pkiiDCneZoxp"
      },
      "source": [
        "##Computing FEV1, FVC and FEV1/FVC ratio for the three subjects"
      ]
    },
    {
      "cell_type": "code",
      "metadata": {
        "colab": {
          "base_uri": "https://localhost:8080/",
          "height": 408
        },
        "id": "2M1xg8t6K5Jm",
        "outputId": "3aa68d90-2703-44eb-ff79-af2f96da2ce3"
      },
      "source": [
        "FEV11 = FEV1[1]\n",
        "FVC11 = FEV1[4]\n",
        "R1 = (FEV11/FVC11)*100\n",
        "\n",
        "FEV21 = FEV2[1]\n",
        "FVC21 = FEV2[4]\n",
        "R2 = (FEV21/FVC21)*100\n",
        "\n",
        "FEV31 = FEV3[1]\n",
        "FVC31 = FEV3[4]\n",
        "R3 = (FEV31/FVC31)*100\n",
        "print(\"FEV1 values:\")\n",
        "display(FEV11, FEV21, FEV31)\n",
        "print(\"\\n\",\"FVC values:\")\n",
        "display(FVC11, FVC21, FVC31)\n",
        "print(\"\\n\",\"FEV1/FVC ratio values:\")\n",
        "display(R1, R2, R3)"
      ],
      "execution_count": 36,
      "outputs": [
        {
          "output_type": "stream",
          "name": "stdout",
          "text": [
            "FEV1 values:\n"
          ]
        },
        {
          "output_type": "display_data",
          "data": {
            "text/plain": [
              "FlowRate    3.02682\n",
              "dtype: float64"
            ]
          },
          "metadata": {}
        },
        {
          "output_type": "display_data",
          "data": {
            "text/plain": [
              "FlowRate    3.650706\n",
              "dtype: float64"
            ]
          },
          "metadata": {}
        },
        {
          "output_type": "display_data",
          "data": {
            "text/plain": [
              "FlowRate    0.83686\n",
              "dtype: float64"
            ]
          },
          "metadata": {}
        },
        {
          "output_type": "stream",
          "name": "stdout",
          "text": [
            "\n",
            " FVC values:\n"
          ]
        },
        {
          "output_type": "display_data",
          "data": {
            "text/plain": [
              "FlowRate    4.349946\n",
              "dtype: float64"
            ]
          },
          "metadata": {}
        },
        {
          "output_type": "display_data",
          "data": {
            "text/plain": [
              "FlowRate    4.271376\n",
              "dtype: float64"
            ]
          },
          "metadata": {}
        },
        {
          "output_type": "display_data",
          "data": {
            "text/plain": [
              "FlowRate    1.452608\n",
              "dtype: float64"
            ]
          },
          "metadata": {}
        },
        {
          "output_type": "stream",
          "name": "stdout",
          "text": [
            "\n",
            " FEV1/FVC ratio values:\n"
          ]
        },
        {
          "output_type": "display_data",
          "data": {
            "text/plain": [
              "FlowRate    69.582933\n",
              "dtype: float64"
            ]
          },
          "metadata": {}
        },
        {
          "output_type": "display_data",
          "data": {
            "text/plain": [
              "FlowRate    85.469085\n",
              "dtype: float64"
            ]
          },
          "metadata": {}
        },
        {
          "output_type": "display_data",
          "data": {
            "text/plain": [
              "FlowRate    57.610863\n",
              "dtype: float64"
            ]
          },
          "metadata": {}
        }
      ]
    },
    {
      "cell_type": "markdown",
      "metadata": {
        "id": "TFFqOKEIaDcO"
      },
      "source": [
        "##Plotting the Flow Volume loop"
      ]
    },
    {
      "cell_type": "code",
      "metadata": {
        "id": "gQIfhhP1O8Ef"
      },
      "source": [
        "x11 = pd.DataFrame([df1.max()]).max().apply(np.ceil)\n",
        "x21 = pd.DataFrame([df2.max()]).max().apply(np.ceil)\n",
        "x31 = pd.DataFrame([df3.max()]).max().apply(np.ceil)\n",
        "x11 = int(x11)\n",
        "x21 = int(x21)\n",
        "x31 = int(x31)\n",
        "\n",
        "x12 = pd.DataFrame([df1.min()]).min().apply(np.floor)\n",
        "x22 = pd.DataFrame([df2.min()]).min().apply(np.floor)\n",
        "x32 = pd.DataFrame([df3.min()]).min().apply(np.floor)\n",
        "x12 = int(x12)\n",
        "x22 = int(x22)\n",
        "x32 = int(x32)\n",
        "\n",
        "X1 = pd.DataFrame(np.arange(x11,x12,-8/2000))\n",
        "X2 = pd.DataFrame(np.arange(x21,x22,-11/2000))\n",
        "X3 = pd.DataFrame(np.arange(x31,x32,-3/2000))\n",
        "\n",
        "X1 = X1[0:2000]\n",
        "X2 = X2[0:2000]\n",
        "X3 = X3[0:2000]\n",
        "\n",
        "y1 = pd.DataFrame(df1[\"FlowRate\"])\n",
        "y2 = pd.DataFrame(df2[\"FlowRate\"])\n",
        "y3 = pd.DataFrame(df3[\"FlowRate\"])"
      ],
      "execution_count": 37,
      "outputs": []
    },
    {
      "cell_type": "code",
      "metadata": {
        "colab": {
          "base_uri": "https://localhost:8080/",
          "height": 312
        },
        "id": "w_vgrWPu69L_",
        "outputId": "c4845700-cd64-4abd-a30b-2d3e23231bd5"
      },
      "source": [
        "plt.plot(X1.iloc[:,0], y1, label = 'subj1')\n",
        "plt.plot(X2.iloc[:,0], y2, label = 'subj2')\n",
        "plt.plot(X3.iloc[:,0], y3, label = 'subj3')\n",
        "plt.axis([X2[0].max(),X2[0].min(), math.floor(y2.min()), math.ceil(y2.max())])\n",
        "plt.xlabel(\"Volume (Litres)\")\n",
        "plt.ylabel(\"Flow Rate (L/sec)\")\n",
        "plt.title(\"Flow Rate vs Volume\")\n",
        "plt.legend()\n"
      ],
      "execution_count": 38,
      "outputs": [
        {
          "output_type": "execute_result",
          "data": {
            "text/plain": [
              "<matplotlib.legend.Legend at 0x7f208c09bdd0>"
            ]
          },
          "metadata": {},
          "execution_count": 38
        },
        {
          "output_type": "display_data",
          "data": {
            "image/png": "[encoded data removed]",
            "text/plain": [
              "<Figure size 432x288 with 1 Axes>"
            ]
          },
          "metadata": {
            "needs_background": "light"
          }
        }
      ]
    },
    {
      "cell_type": "markdown",
      "metadata": {
        "id": "o0zS1ujwXB6-"
      },
      "source": [
        ""
      ]
    },
    {
      "cell_type": "code",
      "metadata": {
        "colab": {
          "base_uri": "https://localhost:8080/",
          "height": 119
        },
        "id": "4-CIawIfTjL7",
        "outputId": "0b7af5ca-b187-44d2-9b83-cdf9be8ff079"
      },
      "source": [
        "display((df1.max()-df1[\"FlowRate\"][459])/(df1.max()-df1.min()),\n",
        "(df2.max()-df2[\"FlowRate\"][459])/(df2.max()-df2.min()),\n",
        "(df3.max()-df3[\"FlowRate\"][459])/(df3.max()-df3.min()))"
      ],
      "execution_count": 39,
      "outputs": [
        {
          "output_type": "display_data",
          "data": {
            "text/plain": [
              "FlowRate    0.74869\n",
              "dtype: float64"
            ]
          },
          "metadata": {}
        },
        {
          "output_type": "display_data",
          "data": {
            "text/plain": [
              "FlowRate    0.874678\n",
              "dtype: float64"
            ]
          },
          "metadata": {}
        },
        {
          "output_type": "display_data",
          "data": {
            "text/plain": [
              "FlowRate    0.68256\n",
              "dtype: float64"
            ]
          },
          "metadata": {}
        }
      ]
    },
    {
      "cell_type": "code",
      "metadata": {
        "colab": {
          "base_uri": "https://localhost:8080/",
          "height": 119
        },
        "id": "zNSvF1-gZvVx",
        "outputId": "0cfd5a3b-d30f-4ab7-e7c0-20a54f251fa4"
      },
      "source": [
        "display((df1.max()-df1[\"FlowRate\"][499]),\n",
        "(df2.max()-df2[\"FlowRate\"][499]),\n",
        "(df3.max()-df3[\"FlowRate\"][499]))"
      ],
      "execution_count": 40,
      "outputs": [
        {
          "output_type": "display_data",
          "data": {
            "text/plain": [
              "FlowRate    5.834\n",
              "dtype: float64"
            ]
          },
          "metadata": {}
        },
        {
          "output_type": "display_data",
          "data": {
            "text/plain": [
              "FlowRate    9.762\n",
              "dtype: float64"
            ]
          },
          "metadata": {}
        },
        {
          "output_type": "display_data",
          "data": {
            "text/plain": [
              "FlowRate    1.702\n",
              "dtype: float64"
            ]
          },
          "metadata": {}
        }
      ]
    },
    {
      "cell_type": "code",
      "metadata": {
        "colab": {
          "base_uri": "https://localhost:8080/",
          "height": 119
        },
        "id": "m6QSmr5AZ9Q4",
        "outputId": "228f5342-d440-4662-85e3-49b21ea32537"
      },
      "source": [
        "display((df1.max()-df1.min()),\n",
        "(df2.max()-df2.min()),\n",
        "(df3.max()-df3.min()))"
      ],
      "execution_count": 41,
      "outputs": [
        {
          "output_type": "display_data",
          "data": {
            "text/plain": [
              "FlowRate    7.445\n",
              "dtype: float64"
            ]
          },
          "metadata": {}
        },
        {
          "output_type": "display_data",
          "data": {
            "text/plain": [
              "FlowRate    10.86\n",
              "dtype: float64"
            ]
          },
          "metadata": {}
        },
        {
          "output_type": "display_data",
          "data": {
            "text/plain": [
              "FlowRate    2.328\n",
              "dtype: float64"
            ]
          },
          "metadata": {}
        }
      ]
    },
    {
      "cell_type": "code",
      "metadata": {
        "colab": {
          "base_uri": "https://localhost:8080/",
          "height": 282
        },
        "id": "xnnKW6zPUCT1",
        "outputId": "660e6e3f-cd40-42c8-d8c8-2b44ff09651f"
      },
      "source": [
        "X1 = [df1[\"FlowRate\"][499], df1[\"FlowRate\"][999], df1[\"FlowRate\"][1499], df1[\"FlowRate\"][1999] ]\n",
        "X2 = [df2[\"FlowRate\"][499], df2[\"FlowRate\"][999], df2[\"FlowRate\"][1499], df2[\"FlowRate\"][1999] ]\n",
        "X3 = [df3[\"FlowRate\"][499], df3[\"FlowRate\"][999], df3[\"FlowRate\"][1499], df3[\"FlowRate\"][1999] ]\n",
        "plt.plot(X1, label = 'subj1')\n",
        "plt.plot(X2, label = 'subj2')\n",
        "plt.plot(X3, label = 'subj3')"
      ],
      "execution_count": 42,
      "outputs": [
        {
          "output_type": "execute_result",
          "data": {
            "text/plain": [
              "[<matplotlib.lines.Line2D at 0x7f208bfb9150>]"
            ]
          },
          "metadata": {},
          "execution_count": 42
        },
        {
          "output_type": "display_data",
          "data": {
            "image/png": "[encoded data removed]",
            "text/plain": [
              "<Figure size 432x288 with 1 Axes>"
            ]
          },
          "metadata": {
            "needs_background": "light"
          }
        }
      ]
    },
    {
      "cell_type": "code",
      "metadata": {
        "colab": {
          "base_uri": "https://localhost:8080/",
          "height": 366
        },
        "id": "9cIOlDnAcBAW",
        "outputId": "02f08b88-376d-47aa-ab41-efa2f597cc4d"
      },
      "source": [
        "\n",
        "X11 = [0, (df1.max()-df1[\"FlowRate\"][499]), (df1.max()-df1[\"FlowRate\"][999]), (df1.max()-df1[\"FlowRate\"][1499]), (df1.max()-df1[\"FlowRate\"][1999])]\n",
        "X22 = [0, (df2.max()-df2[\"FlowRate\"][499]), (df2.max()-df2[\"FlowRate\"][999]), (df2.max()-df2[\"FlowRate\"][1499]), (df2.max()-df2[\"FlowRate\"][1999])]\n",
        "X33 = [0, (df3.max()-df3[\"FlowRate\"][499]), (df3.max()-df3[\"FlowRate\"][999]), (df3.max()-df3[\"FlowRate\"][1499]), (df3.max()-df3[\"FlowRate\"][1999])]\n",
        "plt.plot(X11, label = 'subj1')\n",
        "plt.plot(X22, label = 'subj2')\n",
        "plt.plot(X33, label = 'subj3')\n",
        "\n",
        "plt.xlabel(\"Time (seconds)\")\n",
        "plt.ylabel(\"Flow Rate (L/sec)\")\n",
        "plt.title(\"Flow Rate vs Time\")\n",
        "plt.legend()"
      ],
      "execution_count": 43,
      "outputs": [
        {
          "output_type": "stream",
          "name": "stderr",
          "text": [
            "/usr/local/lib/python3.7/dist-packages/numpy/core/_asarray.py:136: VisibleDeprecationWarning: Creating an ndarray from ragged nested sequences (which is a list-or-tuple of lists-or-tuples-or ndarrays with different lengths or shapes) is deprecated. If you meant to do this, you must specify 'dtype=object' when creating the ndarray\n",
            "  return array(a, dtype, copy=False, order=order, subok=True)\n"
          ]
        },
        {
          "output_type": "execute_result",
          "data": {
            "text/plain": [
              "<matplotlib.legend.Legend at 0x7f208bf68cd0>"
            ]
          },
          "metadata": {},
          "execution_count": 43
        },
        {
          "output_type": "display_data",
          "data": {
            "image/png": "[encoded data removed]",
            "text/plain": [
              "<Figure size 432x288 with 1 Axes>"
            ]
          },
          "metadata": {
            "needs_background": "light"
          }
        }
      ]
    }
  ]
}