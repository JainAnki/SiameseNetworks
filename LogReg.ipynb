{
  "nbformat": 4,
  "nbformat_minor": 0,
  "metadata": {
    "colab": {
      "name": "LogReg.ipynb",
      "provenance": [],
      "collapsed_sections": [],
      "authorship_tag": "ABX9TyOgtSr5zIcWxz3aUuavVnk2",
      "include_colab_link": true
    },
    "kernelspec": {
      "name": "python3",
      "display_name": "Python 3"
    },
    "language_info": {
      "name": "python"
    }
  },
  "cells": [
    {
      "cell_type": "markdown",
      "metadata": {
        "id": "view-in-github",
        "colab_type": "text"
      },
      "source": [
        "<a href=\"https://colab.research.google.com/github/JainAnki/SiameseNetworks/blob/main/LogReg.ipynb\" target=\"_parent\"><img src=\"https://colab.research.google.com/assets/colab-badge.svg\" alt=\"Open In Colab\"/></a>"
      ]
    },
    {
      "cell_type": "code",
      "metadata": {
        "id": "LhQupo2d8FAQ"
      },
      "source": [
        "import numpy as np\n",
        "from sklearn.metrics import classification_report\n",
        "import matplotlib.pyplot as plt"
      ],
      "execution_count": 344,
      "outputs": []
    },
    {
      "cell_type": "code",
      "metadata": {
        "id": "scid6ENZ8-D6"
      },
      "source": [
        "X_train = [[0.346,0.780], [0.303,0.439],[0.358,0.729],[0.602,0.863],[0.790,0.753],[0.611,0.965]]\n",
        "y_train = [0,0,0,1,1,1]\n",
        "\n",
        "X_test = [[0.959,0.382], [0.750,0.306], [0.395,0.760], [0.823,0.764], [0.761,0.874], [0.844,0.435]]\n",
        "y_test = [0,0,0,1,1,1]\n",
        "\n",
        "X_train = np.array(X_train)\n",
        "y_train = np.array(y_train)\n",
        "X_test = np.array(X_test)\n",
        "y_test = np.array(y_test)\n"
      ],
      "execution_count": 345,
      "outputs": []
    },
    {
      "cell_type": "code",
      "metadata": {
        "id": "kEvE3y9J8Mx5"
      },
      "source": [
        "def sigmoid(z):\n",
        "    return 1.0/(1 + np.exp(-z))\n",
        "\n",
        "def loss(y, y_hat):\n",
        "    loss = -np.mean(y*(np.log(y_hat)) - (1-y)*np.log(1-y_hat))\n",
        "    return loss\n",
        "\n",
        "def gradients(X, y, y_hat):\n",
        "\n",
        "    # m-> number of training examples.\n",
        "    m = X.shape[0]\n",
        "    \n",
        "    # Gradient of loss w.r.t weights.\n",
        "    dw = (1/m)*np.dot(X.T, (y_hat - y))\n",
        "    \n",
        "    # Gradient of loss w.r.t bias.\n",
        "    db = (1/m)*np.sum((y_hat - y)) \n",
        "    \n",
        "    return dw, db\n",
        "\n",
        "def plot_decision_boundary(X, y, w, b):\n",
        "\n",
        "    # The Line is y=mx+c\n",
        "    # So, Equate mx+c = w.X + b\n",
        "    # Solving we find m and c\n",
        "    x1 = [min(X[:,0]), max(X[:,0])]\n",
        "    m = -w[0]/w[1]\n",
        "    c = -b/w[1]\n",
        "    x2 =np.multiply(x1,m) + c\n",
        "    \n",
        "    # Plotting\n",
        "    fig = plt.figure\n",
        "    \n",
        "    plt.plot(X[:, 0][y==0], X[:, 1][y==0], \"g^\")\n",
        "    plt.plot(X[:, 0][y==1], X[:, 1][y==1], \"bs\")\n",
        "\n",
        "    plt.xlabel(\"x1\")\n",
        "    plt.ylabel(\"x2\")\n",
        "    plt.title('Decision Boundary')   \n",
        "    plt.plot(x1, x2, 'y-')\n"
      ],
      "execution_count": 346,
      "outputs": []
    },
    {
      "cell_type": "code",
      "metadata": {
        "id": "v9gZSw1M8igR"
      },
      "source": [
        "def train(X, y, epochs, lr):\n",
        " \n",
        "    m, n = X.shape\n",
        "    \n",
        "    # Initializing weights and bias.\n",
        "    w = np.array([1.5,0.5])\n",
        "    b = -1\n",
        "    \n",
        "    # Empty list to store losses.\n",
        "    losses = []\n",
        "    # Training loop.\n",
        "    for epoch in range(epochs):\n",
        "        for i in range(m):\n",
        "            xb = X[i]\n",
        "            yb = y[i]\n",
        "            # Calculating hypothesis/prediction.\n",
        "            y_hat = sigmoid(np.dot(xb, w) + b)\n",
        "            \n",
        "            # Getting the gradients of loss w.r.t parameters.\n",
        "            dw, db = gradients(xb, yb, y_hat)\n",
        "            \n",
        "            # Updating the parameters.\n",
        "            w = w- lr*dw\n",
        "            b = b- lr*db\n",
        "            #print('The logistic model P(y=1|x1,x2) is: ',y_hat)\n",
        "            #print('The updated value of w,b is: ')\n",
        "            #print(w,b)\n",
        "        # Calculating loss and appending it in the list.\n",
        "        l = loss(y, sigmoid(np.dot(X, w) + b))\n",
        "        losses.append(l)\n",
        "        if epoch == 1:\n",
        "          print(\"Solution to 5b(i)\")\n",
        "          print('The updated value of w,b at the end of the epoch is:  \\n',w,b)\n",
        "          print(\"\\n\\n Solution to 5b(ii)\")\n",
        "          print('The logistic model P(y=1|x1,x2) is: \\n', y_hat)\n",
        "          print(\"Corresponding cross entropy function = \\n\",l)\n",
        "        \n",
        "    # returning weights, bias and losses(List).\n",
        "    return w, b, losses   "
      ],
      "execution_count": 347,
      "outputs": []
    },
    {
      "cell_type": "code",
      "metadata": {
        "id": "fDMPE3Eo8oSw"
      },
      "source": [
        "def predict(X):\n",
        "    \n",
        "    # Calculating presictions/y_hat.\n",
        "    preds = sigmoid(np.dot(X, w) + b)\n",
        "    \n",
        "    # Empty List to store predictions.\n",
        "    pred_class = []    \n",
        "    # if y_hat >= 0.5 --> round up to 1\n",
        "    # if y_hat < 0.5 --> round up to 1\n",
        "    pred_class = [1 if i > 0.5 else 0 for i in preds]\n",
        "    \n",
        "    return np.array(pred_class)"
      ],
      "execution_count": 348,
      "outputs": []
    },
    {
      "cell_type": "code",
      "metadata": {
        "colab": {
          "base_uri": "https://localhost:8080/",
          "height": 481
        },
        "id": "Ehs00TWd8qs6",
        "outputId": "c41f5e27-e8ad-4dff-bd2d-19d565456b76"
      },
      "source": [
        "# Training \n",
        "w, b, l = train(X_train, y_train, epochs=50, lr=0.1)# Plotting Decision Boundary\n",
        "plot_decision_boundary(X_train, y_train, w, b)"
      ],
      "execution_count": 349,
      "outputs": [
        {
          "output_type": "stream",
          "name": "stdout",
          "text": [
            "Solution to 5b(i)\n",
            "The updated value of w,b at the end of the epoch is:  \n",
            " [1.53612616 0.51739964] -1.0117732408457443\n",
            "\n",
            "\n",
            " Solution to 5b(ii)\n",
            "The logistic model P(y=1|x1,x2) is: \n",
            " 0.5936978427941283\n",
            "Corresponding cross entropy function = \n",
            " -0.0634715627032198\n"
          ]
        },
        {
          "output_type": "display_data",
          "data": {
            "image/png": "[encoded data removed]",
            "text/plain": [
              "<Figure size 432x288 with 1 Axes>"
            ]
          },
          "metadata": {}
        }
      ]
    },
    {
      "cell_type": "code",
      "metadata": {
        "id": "SnG8h4KT8tQR"
      },
      "source": [
        "def accuracy(y, y_hat):\n",
        "    accuracy = np.sum(y == y_hat) / len(y)\n",
        "    return accuracy"
      ],
      "execution_count": 350,
      "outputs": []
    },
    {
      "cell_type": "code",
      "metadata": {
        "colab": {
          "base_uri": "https://localhost:8080/"
        },
        "id": "Ix6uK-6e_g3r",
        "outputId": "27308539-128e-4a38-9785-6adece785333"
      },
      "source": [
        "accuracy(y_test, y_hat=predict(X_test))*100       "
      ],
      "execution_count": 351,
      "outputs": [
        {
          "output_type": "execute_result",
          "data": {
            "text/plain": [
              "66.66666666666666"
            ]
          },
          "metadata": {},
          "execution_count": 351
        }
      ]
    },
    {
      "cell_type": "code",
      "metadata": {
        "colab": {
          "base_uri": "https://localhost:8080/",
          "height": 299
        },
        "id": "pYOAGKbsDRS3",
        "outputId": "5937f763-d61e-4965-ae91-1c3a49f8351f"
      },
      "source": [
        "plot_decision_boundary(X_test, y_test, w, b)"
      ],
      "execution_count": 352,
      "outputs": [
        {
          "output_type": "display_data",
          "data": {
            "image/png": "[encoded data removed]",
            "text/plain": [
              "<Figure size 432x288 with 1 Axes>"
            ]
          },
          "metadata": {}
        }
      ]
    },
    {
      "cell_type": "code",
      "metadata": {
        "colab": {
          "base_uri": "https://localhost:8080/"
        },
        "id": "5C8mr-ICPyAU",
        "outputId": "97c21de3-eb97-4a4e-a8e2-6aec4e0d4750"
      },
      "source": [
        "print('\\n\\n The solution to 5b(iii) \\n',classification_report(y_test,predict(X_test)))"
      ],
      "execution_count": 353,
      "outputs": [
        {
          "output_type": "stream",
          "name": "stdout",
          "text": [
            "\n",
            "\n",
            " The solution to 5b(iii) \n",
            "               precision    recall  f1-score   support\n",
            "\n",
            "           0       1.00      0.33      0.50         3\n",
            "           1       0.60      1.00      0.75         3\n",
            "\n",
            "    accuracy                           0.67         6\n",
            "   macro avg       0.80      0.67      0.62         6\n",
            "weighted avg       0.80      0.67      0.62         6\n",
            "\n"
          ]
        }
      ]
    }
  ]
}